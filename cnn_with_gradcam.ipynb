{
  "nbformat": 4,
  "nbformat_minor": 0,
  "metadata": {
    "colab": {
      "provenance": [],
      "gpuType": "T4",
      "include_colab_link": true
    },
    "kernelspec": {
      "name": "python3",
      "display_name": "Python 3"
    },
    "language_info": {
      "name": "python"
    },
    "accelerator": "GPU"
  },
  "cells": [
    {
      "cell_type": "markdown",
      "metadata": {
        "id": "view-in-github",
        "colab_type": "text"
      },
      "source": [
        "<a href=\"https://colab.research.google.com/github/untold02/Moving-Object-Direction-Tracking-using-deepSORT/blob/main/cnn_with_gradcam.ipynb\" target=\"_parent\"><img src=\"https://colab.research.google.com/assets/colab-badge.svg\" alt=\"Open In Colab\"/></a>"
      ]
    },
    {
      "cell_type": "code",
      "execution_count": null,
      "metadata": {
        "id": "_jmqQWT-A1UB"
      },
      "outputs": [],
      "source": [
        "import torch\n",
        "import torchvision\n",
        "import torchvision.transforms as transforms"
      ]
    },
    {
      "cell_type": "code",
      "source": [],
      "metadata": {
        "id": "qIdajFe784t6"
      },
      "execution_count": null,
      "outputs": []
    },
    {
      "cell_type": "code",
      "source": [
        "#the output of torchvision datasets are PILImage of range[0,1]. Transforming them to Tensors of normalized range [-1,1]\n",
        "transform = transforms.Compose([transforms.ToTensor(),\n",
        "                                transforms.Normalize ((0.5,0.5,0.5), (0.5,0.5,0.5))])\n",
        "\n",
        "batch_size = 4\n",
        "trainset = torchvision.datasets.CIFAR10(root= \"./data\", train =True, download = True, transform=transform)\n",
        "trainloader = torch.utils.data.DataLoader(trainset,batch_size = batch_size, shuffle = True, num_workers=2)"
      ],
      "metadata": {
        "colab": {
          "base_uri": "https://localhost:8080/"
        },
        "id": "yidu6ua6BICv",
        "outputId": "b26ed34a-4caf-4b8c-f3b2-4d66c45b8cec"
      },
      "execution_count": null,
      "outputs": [
        {
          "output_type": "stream",
          "name": "stdout",
          "text": [
            "Downloading https://www.cs.toronto.edu/~kriz/cifar-10-python.tar.gz to ./data/cifar-10-python.tar.gz\n"
          ]
        },
        {
          "output_type": "stream",
          "name": "stderr",
          "text": [
            "100%|██████████| 170498071/170498071 [00:09<00:00, 18907162.32it/s]\n"
          ]
        },
        {
          "output_type": "stream",
          "name": "stdout",
          "text": [
            "Extracting ./data/cifar-10-python.tar.gz to ./data\n"
          ]
        }
      ]
    },
    {
      "cell_type": "code",
      "source": [
        "testset = torchvision.datasets.CIFAR10(root=\"./data\", train = False, download = True, transform=transform)\n",
        "testloader =torch.utils.data.DataLoader(testset,batch_size = batch_size, shuffle = False, num_workers = 2)\n",
        "classes = (\"plane\", \"car\", \"bird\", \"cat\", \"deer\", \"dog\", \"frog\", \"ship\", \"truck\")"
      ],
      "metadata": {
        "colab": {
          "base_uri": "https://localhost:8080/"
        },
        "id": "Ey0qXi7WC6yQ",
        "outputId": "66336e4d-796e-4a9e-9f8f-82c8e580bc21"
      },
      "execution_count": null,
      "outputs": [
        {
          "output_type": "stream",
          "name": "stdout",
          "text": [
            "Files already downloaded and verified\n"
          ]
        }
      ]
    },
    {
      "cell_type": "code",
      "source": [
        "trainset"
      ],
      "metadata": {
        "colab": {
          "base_uri": "https://localhost:8080/"
        },
        "id": "sK2xLH9gD5Tv",
        "outputId": "5f813c2f-ee57-4391-97cc-83c43276b461"
      },
      "execution_count": null,
      "outputs": [
        {
          "output_type": "execute_result",
          "data": {
            "text/plain": [
              "Dataset CIFAR10\n",
              "    Number of datapoints: 50000\n",
              "    Root location: ./data\n",
              "    Split: Train\n",
              "    StandardTransform\n",
              "Transform: Compose(\n",
              "               ToTensor()\n",
              "               Normalize(mean=(0.5, 0.5, 0.5), std=(0.5, 0.5, 0.5))\n",
              "           )"
            ]
          },
          "metadata": {},
          "execution_count": 4
        }
      ]
    },
    {
      "cell_type": "code",
      "source": [
        "testset"
      ],
      "metadata": {
        "colab": {
          "base_uri": "https://localhost:8080/"
        },
        "id": "H-pcP7UzER3Q",
        "outputId": "b399365a-1531-4fc6-a1d1-9db70fefdffb"
      },
      "execution_count": null,
      "outputs": [
        {
          "output_type": "execute_result",
          "data": {
            "text/plain": [
              "Dataset CIFAR10\n",
              "    Number of datapoints: 10000\n",
              "    Root location: ./data\n",
              "    Split: Test\n",
              "    StandardTransform\n",
              "Transform: Compose(\n",
              "               ToTensor()\n",
              "               Normalize(mean=(0.5, 0.5, 0.5), std=(0.5, 0.5, 0.5))\n",
              "           )"
            ]
          },
          "metadata": {},
          "execution_count": 5
        }
      ]
    },
    {
      "cell_type": "code",
      "source": [
        "import matplotlib.pyplot as plt\n",
        "import numpy as np\n",
        "\n",
        "def imshow(img):\n",
        "    img = img/ 2 + 0.5 #unnormalize\n",
        "    npimg = img.numpy()\n",
        "    plt.imshow(np.transpose(npimg, (1,2,0)))\n",
        "    plt.show\n",
        "\n",
        "#get some random training images\n",
        "\n",
        "dataiter = iter(trainloader)\n",
        "images, labels = next(dataiter)\n",
        "\n",
        "#show image\n",
        "imshow(torchvision.utils.make_grid(images))\n",
        "\n",
        "#print labels\n",
        "print(''.join(f'{classes[labels[j]]:5s}' for j in range(batch_size)))\n"
      ],
      "metadata": {
        "colab": {
          "base_uri": "https://localhost:8080/",
          "height": 210
        },
        "id": "b-7sL99UEVYm",
        "outputId": "3a0f1bd3-f321-4842-afe7-131a0c55b242"
      },
      "execution_count": null,
      "outputs": [
        {
          "output_type": "stream",
          "name": "stdout",
          "text": [
            "car  truckdog  frog \n"
          ]
        },
        {
          "output_type": "display_data",
          "data": {
            "text/plain": [
              "<Figure size 640x480 with 1 Axes>"
            ],
            "image/png": "[encoded data removed]"
          },
          "metadata": {}
        }
      ]
    },
    {
      "cell_type": "markdown",
      "source": [
        "Define a Convolutional Neural Network"
      ],
      "metadata": {
        "id": "XFArw3j4bK-e"
      }
    },
    {
      "cell_type": "code",
      "source": [
        "import torch.nn as nn\n",
        "import torch.nn.functional as F\n",
        "\n",
        "class Net(nn.Module):\n",
        "    def __init__(self):\n",
        "        super().__init__()\n",
        "        self.conv1 = nn.Conv2d(3,6,5) # 3= color channel, 6 = filter, 5 = 5*5 filter size\n",
        "        self.pool = nn.MaxPool2d(2,2)  # mqx-pooling layer with 2*2 kernel size(filter size)\n",
        "        self.conv2 = nn.Conv2d(6,16,5)\n",
        "        self.fc1= nn.Linear(16*5*5,120) #this defines fully connected dense layer with 120 output.\n",
        "                                        #the input size is calculated as the flattened output of the previous convolutional layer, which is 16 channels of 5*5 spatial dimensions.\n",
        "        self.fc2= nn.Linear(120,84) # 120 as input, 84 as output of the dense layer\n",
        "        self.fc3 = nn.Linear(84,10) # the final fully connected layer with 10 output neurons\n",
        "\n",
        "    def forward(self,x):\n",
        "        x = self.pool(F.relu(self.conv1(x)))\n",
        "        x = self.pool(F.relu(self.conv2(x)))\n",
        "        x = torch.flatten(x,1) #flatten all dimensions except batch\n",
        "        x = F.relu(self.fc1(x))\n",
        "        x = F.relu(self.fc2(x))\n",
        "        x = self.fc3(x)\n",
        "\n",
        "        return x\n",
        "\n",
        "net = Net()"
      ],
      "metadata": {
        "id": "P5gvYv1_bGJS"
      },
      "execution_count": null,
      "outputs": []
    },
    {
      "cell_type": "markdown",
      "source": [
        "Defining a loss function and optimizer"
      ],
      "metadata": {
        "id": "egXMwlR5nKEN"
      }
    },
    {
      "cell_type": "code",
      "source": [
        "import torch.optim as optim\n",
        "\n",
        "criterion = nn.CrossEntropyLoss()\n",
        "optimizer = optim.SGD(net.parameters(), lr=0.001, momentum = 0.9)\n"
      ],
      "metadata": {
        "id": "WdAla9wPnOFz"
      },
      "execution_count": null,
      "outputs": []
    },
    {
      "cell_type": "markdown",
      "source": [
        "trining the network"
      ],
      "metadata": {
        "id": "fUbS-WLpnpUi"
      }
    },
    {
      "cell_type": "code",
      "source": [
        "for epoch in range(10):\n",
        "    running_loss = 0.0\n",
        "    for i, data in enumerate(trainloader, 0):\n",
        "        #get the inputs: data is a lis of  [inputs, labels]\n",
        "        inputs, labels = data\n",
        "\n",
        "        #zero the parameter gradients\n",
        "        optimizer.zero_grad()\n",
        "\n",
        "        #forward + backward + optimize\n",
        "        outputs = net(inputs)\n",
        "        loss = criterion(outputs, labels)\n",
        "        loss.backward()\n",
        "        optimizer.step()\n",
        "\n",
        "        #print statistics\n",
        "        running_loss += loss.item()\n",
        "        if i % 2000 == 1999: #print every 2000 mini-batches\n",
        "            print(f'[{epoch + 1}, {i + 1:5d}] loss: {running_loss / 2000:.3f}')\n",
        "            running_loss = 0.0\n",
        "\n",
        "print('Finished Training')"
      ],
      "metadata": {
        "colab": {
          "base_uri": "https://localhost:8080/"
        },
        "id": "BGlY_R7cnkT9",
        "outputId": "742a6fd9-98a0-4def-aa01-78a89a5c800e"
      },
      "execution_count": null,
      "outputs": [
        {
          "output_type": "stream",
          "name": "stdout",
          "text": [
            "[1,  2000] loss: 2.164\n",
            "[1,  4000] loss: 1.828\n",
            "[1,  6000] loss: 1.670\n",
            "[1,  8000] loss: 1.547\n",
            "[1, 10000] loss: 1.510\n",
            "[1, 12000] loss: 1.459\n",
            "[2,  2000] loss: 1.393\n",
            "[2,  4000] loss: 1.357\n",
            "[2,  6000] loss: 1.307\n",
            "[2,  8000] loss: 1.306\n",
            "[2, 10000] loss: 1.291\n",
            "[2, 12000] loss: 1.282\n",
            "[3,  2000] loss: 1.193\n",
            "[3,  4000] loss: 1.203\n",
            "[3,  6000] loss: 1.188\n",
            "[3,  8000] loss: 1.168\n",
            "[3, 10000] loss: 1.171\n",
            "[3, 12000] loss: 1.147\n",
            "[4,  2000] loss: 1.080\n",
            "[4,  4000] loss: 1.097\n",
            "[4,  6000] loss: 1.103\n",
            "[4,  8000] loss: 1.093\n",
            "[4, 10000] loss: 1.075\n",
            "[4, 12000] loss: 1.098\n",
            "[5,  2000] loss: 1.010\n",
            "[5,  4000] loss: 0.997\n",
            "[5,  6000] loss: 1.022\n",
            "[5,  8000] loss: 1.016\n",
            "[5, 10000] loss: 1.037\n",
            "[5, 12000] loss: 1.032\n",
            "[6,  2000] loss: 0.931\n",
            "[6,  4000] loss: 0.949\n",
            "[6,  6000] loss: 0.958\n",
            "[6,  8000] loss: 0.973\n",
            "[6, 10000] loss: 0.995\n",
            "[6, 12000] loss: 0.971\n",
            "[7,  2000] loss: 0.886\n",
            "[7,  4000] loss: 0.893\n",
            "[7,  6000] loss: 0.906\n",
            "[7,  8000] loss: 0.941\n",
            "[7, 10000] loss: 0.944\n",
            "[7, 12000] loss: 0.941\n",
            "[8,  2000] loss: 0.833\n",
            "[8,  4000] loss: 0.869\n",
            "[8,  6000] loss: 0.887\n",
            "[8,  8000] loss: 0.901\n",
            "[8, 10000] loss: 0.904\n",
            "[8, 12000] loss: 0.887\n",
            "[9,  2000] loss: 0.795\n",
            "[9,  4000] loss: 0.845\n",
            "[9,  6000] loss: 0.843\n",
            "[9,  8000] loss: 0.859\n",
            "[9, 10000] loss: 0.883\n",
            "[9, 12000] loss: 0.860\n",
            "[10,  2000] loss: 0.774\n",
            "[10,  4000] loss: 0.795\n",
            "[10,  6000] loss: 0.826\n",
            "[10,  8000] loss: 0.829\n",
            "[10, 10000] loss: 0.836\n",
            "[10, 12000] loss: 0.855\n",
            "Finished Training\n"
          ]
        }
      ]
    },
    {
      "cell_type": "markdown",
      "source": [
        "Saving the model"
      ],
      "metadata": {
        "id": "pvSdNLqDsk53"
      }
    },
    {
      "cell_type": "code",
      "source": [
        "path = \"./cifar_net.pth\"\n",
        "torch.save(net.state_dict(), path)"
      ],
      "metadata": {
        "id": "IE3OJYymsmw2"
      },
      "execution_count": null,
      "outputs": []
    },
    {
      "cell_type": "markdown",
      "source": [
        "testing the network on the test data\n"
      ],
      "metadata": {
        "id": "Bhg2nFnOtKlm"
      }
    },
    {
      "cell_type": "code",
      "source": [
        "dataiter = iter(testloader)\n",
        "images, labels = next(dataiter)\n",
        "\n",
        "#print images\n",
        "imshow(torchvision.utils.make_grid(images))\n",
        "print(\"GroundTruth: \" , ' '.join(f'{classes[labels[j]]:5s}' for j in range(4)))"
      ],
      "metadata": {
        "colab": {
          "base_uri": "https://localhost:8080/",
          "height": 210
        },
        "id": "yuHde3JwtOsf",
        "outputId": "0990b726-31a9-44c1-8d00-635559b464e4"
      },
      "execution_count": null,
      "outputs": [
        {
          "output_type": "stream",
          "name": "stdout",
          "text": [
            "GroundTruth:  cat   truck truck plane\n"
          ]
        },
        {
          "output_type": "display_data",
          "data": {
            "text/plain": [
              "<Figure size 640x480 with 1 Axes>"
            ],
            "image/png": "[encoded data removed]"
          },
          "metadata": {}
        }
      ]
    },
    {
      "cell_type": "code",
      "source": [
        "outputs = net(images)"
      ],
      "metadata": {
        "id": "YDnvOp1fuwjl"
      },
      "execution_count": null,
      "outputs": []
    },
    {
      "cell_type": "code",
      "source": [
        "net.eval()"
      ],
      "metadata": {
        "colab": {
          "base_uri": "https://localhost:8080/"
        },
        "id": "ASHYexjxoWxB",
        "outputId": "4100c10f-6fed-466f-881e-6facc41327a0"
      },
      "execution_count": null,
      "outputs": [
        {
          "output_type": "execute_result",
          "data": {
            "text/plain": [
              "Net(\n",
              "  (conv1): Conv2d(3, 6, kernel_size=(5, 5), stride=(1, 1))\n",
              "  (pool): MaxPool2d(kernel_size=2, stride=2, padding=0, dilation=1, ceil_mode=False)\n",
              "  (conv2): Conv2d(6, 16, kernel_size=(5, 5), stride=(1, 1))\n",
              "  (fc1): Linear(in_features=400, out_features=120, bias=True)\n",
              "  (fc2): Linear(in_features=120, out_features=84, bias=True)\n",
              "  (fc3): Linear(in_features=84, out_features=10, bias=True)\n",
              ")"
            ]
          },
          "metadata": {},
          "execution_count": 12
        }
      ]
    },
    {
      "cell_type": "code",
      "source": [
        "correct = 0\n",
        "total = 0\n",
        "# since we're not training, we don't need to calculate the gradients for our outputs\n",
        "with torch.no_grad():\n",
        "    for data in testloader:\n",
        "        images, labels = data\n",
        "        # calculate outputs by running images through the network\n",
        "        outputs = net(images)\n",
        "        # the class with the highest energy is what we choose as prediction\n",
        "        _, predicted = torch.max(outputs.data, 1)\n",
        "        total += labels.size(0)\n",
        "        correct += (predicted == labels).sum().item()\n",
        "\n",
        "print(f'Accuracy of the network on the 10000 test images: {100 * correct // total} %')"
      ],
      "metadata": {
        "colab": {
          "base_uri": "https://localhost:8080/"
        },
        "id": "WeiYsRCFn5AM",
        "outputId": "04fd529f-a716-40f4-b72d-a10141906d89"
      },
      "execution_count": null,
      "outputs": [
        {
          "output_type": "stream",
          "name": "stdout",
          "text": [
            "Accuracy of the network on the 10000 test images: 9 %\n"
          ]
        }
      ]
    },
    {
      "cell_type": "code",
      "source": [
        "import numpy as np\n",
        "from PIL import Image\n",
        "import torchvision.transforms as transformss\n",
        "#loading the trained model\n",
        "net = Net()\n",
        "#net.load_state.dict(torch.load(\"./cifar_net.pth\"))\n",
        "net.eval()\n",
        "\n",
        "transform = transforms.Compose([\n",
        "    transforms.Resize((32, 32)),  # Resize to the input size of your model\n",
        "    transforms.ToTensor(),        # Convert to a tensor\n",
        "    transforms.Normalize((0.5, 0.5, 0.5), (0.5, 0.5, 0.5)),  # Normalize\n",
        "])\n",
        "# Load and preprocess the input image\n",
        "input_image_path = '/content/dog3.jpg'  # Replace with the path to your input image\n",
        "input_image = Image.open(input_image_path)\n",
        "input_array = transform(input_image).unsqueeze(0)\n",
        "\n",
        "# Make predictions\n",
        "with torch.no_grad():\n",
        "    class_probabilities = net(input_array)\n",
        "    _, predicted_class = torch.max(class_probabilities, 1)\n",
        "\n",
        "# Print the predicted class and class probabilities\n",
        "print(\"Predicted Class:\", predicted_class.item())\n",
        "#print(\"Class Probabilities:\", class_probabilities)\n"
      ],
      "metadata": {
        "colab": {
          "base_uri": "https://localhost:8080/"
        },
        "id": "J5uxjMiim_lD",
        "outputId": "b93a5f1b-8028-4b6a-f605-541059539d6a"
      },
      "execution_count": null,
      "outputs": [
        {
          "output_type": "stream",
          "name": "stdout",
          "text": [
            "Predicted Class: 1\n"
          ]
        }
      ]
    },
    {
      "cell_type": "code",
      "source": [
        "pip install grad-cam"
      ],
      "metadata": {
        "colab": {
          "base_uri": "https://localhost:8080/"
        },
        "id": "1hTvhnsRucbb",
        "outputId": "37e834be-721e-4366-e42a-c655974075da"
      },
      "execution_count": null,
      "outputs": [
        {
          "output_type": "stream",
          "name": "stdout",
          "text": [
            "Requirement already satisfied: grad-cam in /usr/local/lib/python3.10/dist-packages (1.4.8)\n",
            "Requirement already satisfied: numpy in /usr/local/lib/python3.10/dist-packages (from grad-cam) (1.23.5)\n",
            "Requirement already satisfied: Pillow in /usr/local/lib/python3.10/dist-packages (from grad-cam) (9.4.0)\n",
            "Requirement already satisfied: torch>=1.7.1 in /usr/local/lib/python3.10/dist-packages (from grad-cam) (2.0.1+cu118)\n",
            "Requirement already satisfied: torchvision>=0.8.2 in /usr/local/lib/python3.10/dist-packages (from grad-cam) (0.15.2+cu118)\n",
            "Requirement already satisfied: ttach in /usr/local/lib/python3.10/dist-packages (from grad-cam) (0.0.3)\n",
            "Requirement already satisfied: tqdm in /usr/local/lib/python3.10/dist-packages (from grad-cam) (4.66.1)\n",
            "Requirement already satisfied: opencv-python in /usr/local/lib/python3.10/dist-packages (from grad-cam) (4.8.0.76)\n",
            "Requirement already satisfied: matplotlib in /usr/local/lib/python3.10/dist-packages (from grad-cam) (3.7.1)\n",
            "Requirement already satisfied: scikit-learn in /usr/local/lib/python3.10/dist-packages (from grad-cam) (1.2.2)\n",
            "Requirement already satisfied: filelock in /usr/local/lib/python3.10/dist-packages (from torch>=1.7.1->grad-cam) (3.12.4)\n",
            "Requirement already satisfied: typing-extensions in /usr/local/lib/python3.10/dist-packages (from torch>=1.7.1->grad-cam) (4.5.0)\n",
            "Requirement already satisfied: sympy in /usr/local/lib/python3.10/dist-packages (from torch>=1.7.1->grad-cam) (1.12)\n",
            "Requirement already satisfied: networkx in /usr/local/lib/python3.10/dist-packages (from torch>=1.7.1->grad-cam) (3.1)\n",
            "Requirement already satisfied: jinja2 in /usr/local/lib/python3.10/dist-packages (from torch>=1.7.1->grad-cam) (3.1.2)\n",
            "Requirement already satisfied: triton==2.0.0 in /usr/local/lib/python3.10/dist-packages (from torch>=1.7.1->grad-cam) (2.0.0)\n",
            "Requirement already satisfied: cmake in /usr/local/lib/python3.10/dist-packages (from triton==2.0.0->torch>=1.7.1->grad-cam) (3.27.6)\n",
            "Requirement already satisfied: lit in /usr/local/lib/python3.10/dist-packages (from triton==2.0.0->torch>=1.7.1->grad-cam) (17.0.2)\n",
            "Requirement already satisfied: requests in /usr/local/lib/python3.10/dist-packages (from torchvision>=0.8.2->grad-cam) (2.31.0)\n",
            "Requirement already satisfied: contourpy>=1.0.1 in /usr/local/lib/python3.10/dist-packages (from matplotlib->grad-cam) (1.1.1)\n",
            "Requirement already satisfied: cycler>=0.10 in /usr/local/lib/python3.10/dist-packages (from matplotlib->grad-cam) (0.12.0)\n",
            "Requirement already satisfied: fonttools>=4.22.0 in /usr/local/lib/python3.10/dist-packages (from matplotlib->grad-cam) (4.43.1)\n",
            "Requirement already satisfied: kiwisolver>=1.0.1 in /usr/local/lib/python3.10/dist-packages (from matplotlib->grad-cam) (1.4.5)\n",
            "Requirement already satisfied: packaging>=20.0 in /usr/local/lib/python3.10/dist-packages (from matplotlib->grad-cam) (23.2)\n",
            "Requirement already satisfied: pyparsing>=2.3.1 in /usr/local/lib/python3.10/dist-packages (from matplotlib->grad-cam) (3.1.1)\n",
            "Requirement already satisfied: python-dateutil>=2.7 in /usr/local/lib/python3.10/dist-packages (from matplotlib->grad-cam) (2.8.2)\n",
            "Requirement already satisfied: scipy>=1.3.2 in /usr/local/lib/python3.10/dist-packages (from scikit-learn->grad-cam) (1.11.3)\n",
            "Requirement already satisfied: joblib>=1.1.1 in /usr/local/lib/python3.10/dist-packages (from scikit-learn->grad-cam) (1.3.2)\n",
            "Requirement already satisfied: threadpoolctl>=2.0.0 in /usr/local/lib/python3.10/dist-packages (from scikit-learn->grad-cam) (3.2.0)\n",
            "Requirement already satisfied: six>=1.5 in /usr/local/lib/python3.10/dist-packages (from python-dateutil>=2.7->matplotlib->grad-cam) (1.16.0)\n",
            "Requirement already satisfied: MarkupSafe>=2.0 in /usr/local/lib/python3.10/dist-packages (from jinja2->torch>=1.7.1->grad-cam) (2.1.3)\n",
            "Requirement already satisfied: charset-normalizer<4,>=2 in /usr/local/lib/python3.10/dist-packages (from requests->torchvision>=0.8.2->grad-cam) (3.3.0)\n",
            "Requirement already satisfied: idna<4,>=2.5 in /usr/local/lib/python3.10/dist-packages (from requests->torchvision>=0.8.2->grad-cam) (3.4)\n",
            "Requirement already satisfied: urllib3<3,>=1.21.1 in /usr/local/lib/python3.10/dist-packages (from requests->torchvision>=0.8.2->grad-cam) (2.0.6)\n",
            "Requirement already satisfied: certifi>=2017.4.17 in /usr/local/lib/python3.10/dist-packages (from requests->torchvision>=0.8.2->grad-cam) (2023.7.22)\n",
            "Requirement already satisfied: mpmath>=0.19 in /usr/local/lib/python3.10/dist-packages (from sympy->torch>=1.7.1->grad-cam) (1.3.0)\n"
          ]
        }
      ]
    },
    {
      "cell_type": "code",
      "source": [
        "from pytorch_grad_cam import GradCAM\n",
        "#from pytorch_grad_cam import GradCAMPlusPlus\n",
        "\n",
        "from pytorch_grad_cam.utils.image import show_cam_on_image, deprocess_image, preprocess_image\n",
        "from pytorch_grad_cam.utils.model_targets import ClassifierOutputTarget\n",
        "from pytorch_grad_cam.utils.image import show_cam_on_image\n",
        "import cv2"
      ],
      "metadata": {
        "id": "Hgb9Runbu98p"
      },
      "execution_count": null,
      "outputs": []
    },
    {
      "cell_type": "code",
      "source": [
        "import os\n",
        "import torchvision.transforms as transforms\n",
        "\n",
        "def main():\n",
        "    #load the model\n",
        "    model = Net()\n",
        "    net.eval()\n",
        "    target_layers = [model.conv2]\n",
        "\n",
        "    image_path = \"/content/dog3.jpg\"\n",
        "\n",
        "    rgb_image = cv2.imread(image_path, 1)[:, :, ::-1]\n",
        "    rgb_image = cv2.resize(rgb_image, (32,32))      # we need to convert out costume image data to the size of the traing dataset(cifar10),i.e 32*32\n",
        "    rgb_image= np.float32(rgb_image)/255\n",
        "    #print(rgb_image)\n",
        "\n",
        "    input_tensor = transforms.Compose([\n",
        "        transforms.ToTensor(),\n",
        "        transforms.Normalize(mean=[0.485, 0.456, 0.406], std=[0.229, 0.224, 0.225]),\n",
        "    ])(rgb_image).unsqueeze(0)\n",
        "\n",
        "    # Apply transformations to the image\n",
        "    i#nput_tensor = image_transforms(rgb_image)\n",
        "    #input_tensor = input_tensor.unsqueeze(0)\n",
        "    print(input_tensor)\n",
        "\n",
        "\n",
        "    targets = [ClassifierOutputTarget(162)]\n",
        "\n",
        "    cam = GradCAM(model=model, target_layers=target_layers)\n",
        "\n",
        "    grayscale_cam = cam( input_tensor)\n",
        "    grayscale_cam = grayscale_cam[0, :]\n",
        "\n",
        "\n",
        "\n",
        "    visualization = show_cam_on_image(rgb_image, grayscale_cam, use_rgb=True)\n",
        "\n",
        "    visualization_np =np.array(visualization)\n",
        "\n",
        "    #saving the output\n",
        "\n",
        "    output_dir = \"/content/output\"\n",
        "    os.makedirs(output_dir, exist_ok= True)\n",
        "    output_path = os.path.join(output_dir, 'visualization.jpg')\n",
        "    cv2.imwrite(output_path, cv2.cvtColor(visualization, cv2.COLOR_RGB2BGR ))\n",
        "\n",
        "if __name__ == \"__main__\":\n",
        "    main()\n"
      ],
      "metadata": {
        "colab": {
          "base_uri": "https://localhost:8080/"
        },
        "id": "azBIxJ2wvSHR",
        "outputId": "35378864-a4dc-4ef6-be2a-2ed03aa409db"
      },
      "execution_count": null,
      "outputs": [
        {
          "output_type": "stream",
          "name": "stdout",
          "text": [
            "tensor([[[[-2.0665, -1.8097, -2.0837,  ..., -1.4672, -1.6213, -1.6213],\n",
            "          [-1.9295, -1.9124, -2.0665,  ..., -1.9638, -1.8610, -1.9467],\n",
            "          [-1.7412, -1.4500, -2.0323,  ..., -1.7240, -1.5870, -1.8268],\n",
            "          ...,\n",
            "          [ 0.5707,  0.6049,  0.7248,  ...,  0.4851,  0.2796,  0.5193],\n",
            "          [ 0.5022,  0.6221,  0.6221,  ...,  0.6563,  0.6906,  0.5536],\n",
            "          [ 0.4337,  0.5193,  0.5536,  ...,  0.2282,  0.3138,  0.3309]],\n",
            "\n",
            "         [[-1.9482, -1.6856, -1.8782,  ..., -1.1078, -1.2479, -1.1954],\n",
            "          [-1.7381, -1.7206, -1.8606,  ..., -1.6681, -1.5455, -1.6681],\n",
            "          [-1.4405, -1.1604, -1.8256,  ..., -1.3529, -1.0203, -1.5455],\n",
            "          ...,\n",
            "          [ 0.2227,  0.2752,  0.3803,  ...,  0.1527, -0.0574,  0.2052],\n",
            "          [ 0.1702,  0.2927,  0.2752,  ...,  0.3277,  0.3627,  0.2227],\n",
            "          [ 0.1001,  0.1877,  0.2227,  ...,  0.0301,  0.1176,  0.1176]],\n",
            "\n",
            "         [[-1.7696, -1.5081, -1.7870,  ..., -1.4384, -1.4384, -1.1770],\n",
            "          [-1.5779, -1.5604, -1.7696,  ..., -1.6476, -1.8044, -1.6999],\n",
            "          [-1.3164, -1.0550, -1.7347,  ..., -1.7522, -1.8044, -1.6650],\n",
            "          ...,\n",
            "          [ 0.2696,  0.3045,  0.4091,  ...,  0.1825, -0.0267,  0.2348],\n",
            "          [ 0.1999,  0.3219,  0.3045,  ...,  0.3568,  0.3742,  0.2348],\n",
            "          [ 0.1302,  0.2173,  0.2522,  ...,  0.0082,  0.0953,  0.1128]]]])\n"
          ]
        }
      ]
    },
    {
      "cell_type": "code",
      "source": [],
      "metadata": {
        "id": "hd2xpuus0Cha"
      },
      "execution_count": null,
      "outputs": []
    }
  ]
}